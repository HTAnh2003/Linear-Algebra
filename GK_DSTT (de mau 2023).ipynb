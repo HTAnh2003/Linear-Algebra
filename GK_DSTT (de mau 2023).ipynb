{
 "cells": [
  {
   "cell_type": "markdown",
   "id": "d61cdfec",
   "metadata": {},
   "source": [
    "# Đề thi Giữa kỳ Đại số tuyến tính cho Khoa học dữ liệu\n",
    "## Khoa CNTT - trường ĐH Công nghiệp.\n",
    "### Nhóm thực hành 1 & 2. Ngày 01/04/2022. Thời gian làm bài: 15h30' - 17h15'."
   ]
  },
  {
   "cell_type": "markdown",
   "id": "23fd2c4e",
   "metadata": {},
   "source": [
    "## Bài 1. (4 điểm)\n",
    "Cho hai ma trận sau đây"
   ]
  },
  {
   "cell_type": "markdown",
   "id": "3afd0d43",
   "metadata": {},
   "source": [
    "$$A=\\left( \\begin{matrix}\n",
    "   1 & 0 & 2 & a  \\\\\n",
    "   1 & 2 & 4 & b  \\\\\n",
    "   -1 & 2 & 0 & c  \\\\\n",
    "   3 & -1 & 3 & d  \\\\\n",
    "\\end{matrix} \\right), B=\\left( \\begin{matrix}\n",
    "   4 & 5 & 1 & -2  \\\\\n",
    "   0 & 1 & 2 & 1  \\\\\n",
    "   0 & -2 & -3 & 1  \\\\\n",
    "   a & b & c & d  \\\\\n",
    "\\end{matrix} \\right)$$\n",
    "trong đó $a,b,c,d$ là $4$ số cuối trong $MSSV$ (viết theo thứ tự từ trái sang phải). Khi làm bài, $SV$ chủ động thay các mã số đó vào đề bài trên."
   ]
  },
  {
   "cell_type": "code",
   "execution_count": 1,
   "id": "772793e1",
   "metadata": {},
   "outputs": [],
   "source": [
    "import numpy as np \n",
    "from scipy import linalg"
   ]
  },
  {
   "cell_type": "code",
   "execution_count": 2,
   "id": "ae7eac23",
   "metadata": {},
   "outputs": [
    {
     "data": {
      "text/plain": [
       "(array([[ 1,  0,  2,  8],\n",
       "        [ 1,  2,  4,  5],\n",
       "        [-1,  2,  0,  2],\n",
       "        [ 3, -1,  3,  1]]),\n",
       " array([[ 4,  5,  1, -2],\n",
       "        [ 0,  1,  2,  1],\n",
       "        [ 0, -2, -3,  1],\n",
       "        [ 8,  5,  2,  1]]))"
      ]
     },
     "execution_count": 2,
     "metadata": {},
     "output_type": "execute_result"
    }
   ],
   "source": [
    "(a,b,c,d)=(8,5,2,1)\n",
    "A= np.array([[1,0,2,a],[1,2,4,b],[-1,2,0,c],[3,-1,3,d]])\n",
    "B= np.array([[4,5,1,-2],[0,1,2,1],[0,-2,-3,1],[a,b,c,d]])\n",
    "A,B"
   ]
  },
  {
   "cell_type": "markdown",
   "id": "3f5192cb",
   "metadata": {},
   "source": [
    "Bằng cách dùng các thư viện có hỗ trợ sẵn của Python, hãy thực hiện các yêu cầu sau:\n",
    "* a) Tính $B+A$, $B{{A}^{T}}$, $2A-3B$.\n",
    "* b) Tính $\\det (A)$ , $\\det ({{B}^{T}}+2I)$, $rank(AB).$ \n",
    "* c) Tính norm của vector hàng $1$ của $A,$ tính norm của vector cột $3$ của $B,$ tính tổng các phần tử trên đường chéo của $A.$\n",
    "* d) Kiểm tra công thức ${{(AB)}^{T}}={{B}^{T}}{{A}^{T}}$ dựa trên hai ma trận đã cho.\n",
    "* e) Sinh ngẫu nhiên một ma trận $C$ có kích thước $4\\times 4$ với các phần tử là số nguyên trong miền từ $-9\\to 9$, từ đó in ra các phần tử nằm phía dưới đường chéo của $A+BC.$ "
   ]
  },
  {
   "cell_type": "code",
   "execution_count": 1,
   "id": "71a79ecf",
   "metadata": {},
   "outputs": [
    {
     "ename": "NameError",
     "evalue": "name 'B' is not defined",
     "output_type": "error",
     "traceback": [
      "\u001b[1;31m---------------------------------------------------------------------------\u001b[0m",
      "\u001b[1;31mNameError\u001b[0m                                 Traceback (most recent call last)",
      "\u001b[1;32m~\\AppData\\Local\\Temp\\ipykernel_22552\\721622024.py\u001b[0m in \u001b[0;36m<module>\u001b[1;34m\u001b[0m\n\u001b[0;32m      1\u001b[0m \u001b[1;31m# a)\u001b[0m\u001b[1;33m\u001b[0m\u001b[1;33m\u001b[0m\u001b[0m\n\u001b[1;32m----> 2\u001b[1;33m \u001b[0mprint\u001b[0m\u001b[1;33m(\u001b[0m\u001b[0mB\u001b[0m\u001b[1;33m+\u001b[0m\u001b[0mA\u001b[0m\u001b[1;33m)\u001b[0m\u001b[1;33m\u001b[0m\u001b[1;33m\u001b[0m\u001b[0m\n\u001b[0m\u001b[0;32m      3\u001b[0m \u001b[0mprint\u001b[0m\u001b[1;33m(\u001b[0m\u001b[0mB\u001b[0m\u001b[1;33m@\u001b[0m\u001b[1;33m(\u001b[0m\u001b[0mA\u001b[0m\u001b[1;33m.\u001b[0m\u001b[0mT\u001b[0m\u001b[1;33m)\u001b[0m\u001b[1;33m)\u001b[0m\u001b[1;33m\u001b[0m\u001b[1;33m\u001b[0m\u001b[0m\n\u001b[0;32m      4\u001b[0m \u001b[0mprint\u001b[0m\u001b[1;33m(\u001b[0m\u001b[1;33m(\u001b[0m\u001b[1;36m2\u001b[0m\u001b[1;33m*\u001b[0m\u001b[0mA\u001b[0m\u001b[1;33m)\u001b[0m\u001b[1;33m-\u001b[0m\u001b[1;33m(\u001b[0m\u001b[1;36m3\u001b[0m\u001b[1;33m*\u001b[0m\u001b[0mB\u001b[0m\u001b[1;33m)\u001b[0m\u001b[1;33m)\u001b[0m\u001b[1;33m\u001b[0m\u001b[1;33m\u001b[0m\u001b[0m\n\u001b[0;32m      5\u001b[0m \u001b[1;31m# b)\u001b[0m\u001b[1;33m\u001b[0m\u001b[1;33m\u001b[0m\u001b[0m\n",
      "\u001b[1;31mNameError\u001b[0m: name 'B' is not defined"
     ]
    }
   ],
   "source": [
    "# a)\n",
    "print(B+A)\n",
    "print(B@(A.T))\n",
    "print((2*A)-(3*B))\n",
    "# b)\n",
    "print(\"detA = \",linalg.det(A))\n",
    "print(\"det(B^T+2I) = \",linalg.det(B.T+np.identity(4)))\n",
    "print(\"rank(AB) = \",np.linalg.matrix_rank(A@B))\n",
    "# c)\n",
    "print(\"Norm của vector hàng 1 của A \",A[0,:], \": \",linalg.norm(A[0,:]))\n",
    "print(\"Norm của vector cột 3 của B \",B[:,2],\" : \",linalg.norm(B[:,2]))\n",
    "print(\"Tổng các phần tử trên đường chéo A \",np.diag(A),\" la :\",sum(np.diag(A)))\n",
    "# d)\n",
    "print(\"(A*B)^T = \\n\",(A@B).T,\"\\n và B^T*A^T = \\n\",(B.T)@(A.T))\n",
    "# Cách 1\n",
    "if(((A@B).T).all()==((B.T)@(A.T)).all()):\n",
    "    print(\"Công thức (𝐴𝐵)^𝑇=(𝐵^𝑇)*(𝐴^𝑇) là đúng \")\n",
    "else : print(\"Công thức (𝐴𝐵)^𝑇=(𝐵^𝑇)*(𝐴^𝑇) là sai \")\n",
    "## Cách 2\n",
    "if np.allclose((A@B).T,(B.T)@(A.T)):\n",
    "    print(\"Công thức (𝐴𝐵)^𝑇=(𝐵^𝑇)*(𝐴^𝑇) là đúng \")\n",
    "else : print(\"Công thức (𝐴𝐵)^𝑇=(𝐵^𝑇)*(𝐴^𝑇) là sai \")\n",
    "# e)\n",
    "C= np.random.randint(-9,9,size=(4,4))\n",
    "A+B@C,(np.tril(A+B@C))-np.diag(np.diag(A+B@C)),np.diag(A+B@C,k=-1)"
   ]
  },
  {
   "cell_type": "markdown",
   "id": "d17402ac",
   "metadata": {},
   "source": [
    "## Bài 2. (2 điểm)\n",
    "Kết quả học tập của một nhóm sinh viên ở môn Đại số tuyến tính cho Khoa học dữ liệu được cho trong bảng bên dưới. Sinh viên chỉ qua môn nếu điểm tổng kết không dưới $5.0$."
   ]
  },
  {
   "cell_type": "markdown",
   "id": "eba138a5",
   "metadata": {},
   "source": [
    "|Sinh viên | BT cá nhân  | Báo cáo   | Giữa kỳ   | Cuối kỳ   |\n",
    "|----------|-------------|-----------|-----------|-----------|\n",
    "|  A       |     8       |    7      |    6      |    4      |\n",
    "|  B       |     0       |    7      |    5      |    6      |\n",
    "|  C       |     3       |    9      |    4      |    5      |\n",
    "|  D       |     7       |    8      |    3      |    5      |\n",
    "|  E       |     10      |    10     |    10     |    9      |\n",
    "|  F       |     6       |    0      |    6      |    5      |"
   ]
  },
  {
   "cell_type": "markdown",
   "id": "b5cdf313",
   "metadata": {},
   "source": [
    "Giảng viên đang cân nhắc cho các điểm theo trọng số nào để có lợi cho các sinh viên nhất (ít người rớt nhất), có $3$ phương án:\n",
    "* $0.2, 0.2, 0.2, 0.4$.\n",
    "* $0.1, 0.1, 0.3, 0.5.$\n",
    "* $0.1, 0.2, 0.3, 0.4.$\n",
    "\n",
    "Hãy giúp giảng viên lựa chọn phương án thích hợp."
   ]
  },
  {
   "cell_type": "code",
   "execution_count": 4,
   "id": "d347ff09",
   "metadata": {},
   "outputs": [
    {
     "name": "stdout",
     "output_type": "stream",
     "text": [
      "[[5.8 4.8 5.2 5.6 9.6 4.4]\n",
      " [5.3 5.2 4.9 4.9 9.5 4.9]\n",
      " [5.6 5.3 5.3 5.2 9.6 4.4]]\n",
      "[[False  True False False False  True]\n",
      " [False False  True  True False  True]\n",
      " [False False False False False  True]]\n"
     ]
    },
    {
     "data": {
      "text/plain": [
       "array([2, 3, 1])"
      ]
     },
     "execution_count": 4,
     "metadata": {},
     "output_type": "execute_result"
    }
   ],
   "source": [
    "M = np.array([[8,7,6,4],[0,7,5,6],[3,9,4,5],[7,8 ,3 ,5],[ 10,10,10,9],[6,0,6,5]])\n",
    "N = np.array([[0.2, 0.2, 0.2, 0.4],[0.1, 0.1, 0.3, 0.5],[0.1, 0.2, 0.3, 0.4]])\n",
    "print(N@(M.T))\n",
    "result = (N@M.T<5)\n",
    "print(result)\n",
    "result.sum(axis=1)"
   ]
  },
  {
   "cell_type": "markdown",
   "id": "95adedf1",
   "metadata": {},
   "source": [
    "2,3,1 là số sinh viên rớt ứng với mỗi phương án"
   ]
  },
  {
   "cell_type": "markdown",
   "id": "86f1655a",
   "metadata": {},
   "source": [
    "## Bài 3. (2  điểm)\n",
    "Cho bài toán sau, hãy bằng cách lập hệ phương trình thích hợp và giải bằng Python theo **ít nhất $2$ cách khác nhau**: <br>\n",
    "\n",
    "Trong đợt dịch cúm Covid-19, sinh viên của một trường Đại học có nhận được trợ cấp từ nhà trường, từ địa phương và từ hội cựu sinh viên. Khảo sát trong một lớp học có ba nhóm: đang ở quê, đang ở trọ tại TPHCM và đang ở KTX trường. Biết rằng mức tiền hỗ trợ tiền:\n",
    "* Của trường cho các nhóm trên lần lượt là: $200k, 600k, 400k$; \n",
    "* Của địa phương là: $500k, 500k, 500k$; \n",
    "* Của hội cựu sinh viên là: $0k, 700k, 300k.$\n",
    "\n",
    "Biết rằng tổng tiền mà sinh viên được từ nhà trường là $37$ triệu, từ địa phương là $50$ triệu và từ hội cựu sinh viên là $29$ triệu. Tính tổng sinh viên của lớp."
   ]
  },
  {
   "cell_type": "code",
   "execution_count": 65,
   "id": "8aa7828b",
   "metadata": {},
   "outputs": [
    {
     "data": {
      "text/plain": [
       "(array([[50.],\n",
       "        [35.],\n",
       "        [15.]]),\n",
       " array([[50.],\n",
       "        [35.],\n",
       "        [15.]]),\n",
       " {x: 50, y: 35, z: 15})"
      ]
     },
     "execution_count": 65,
     "metadata": {},
     "output_type": "execute_result"
    }
   ],
   "source": [
    "A=np.array([[200,600,400],[500,500,500],[0,700,300]])\n",
    "b=np.array([[37000],[50000],[29000]])\n",
    "kq=linalg.solve(A,b) # cách 1\n",
    "kq1=linalg.inv(A)@b # Cách 2 #A.I@b\n",
    "# Cách 3 dùng sumpy (tham khảo lab1)\n",
    "import sympy as sp\n",
    "x = sp.Symbol('x')\n",
    "y = sp.Symbol('y')\n",
    "z = sp.Symbol('z')\n",
    "kq2=sp.solve([200*x+600*y+400*z-37000,500*x+500*y+500*z-50000,0*x+700*y+300*z-29000],[x,y,z])\n",
    "kq,kq1,kq2"
   ]
  },
  {
   "cell_type": "markdown",
   "id": "937cbf8f",
   "metadata": {},
   "source": [
    "## Bài 4. (2 điểm)\n",
    "Cho ma trận: $M=\\left( \\begin{matrix}\n",
    "   2 & a & -2  \\\\\n",
    "   0 & 3 & 0  \\\\\n",
    "   0 & 0 & 3  \\\\\n",
    "\\end{matrix} \\right)$ trong đó $a$ là tham số thực.\n",
    "* a) Cho $a=1,$ hãy chéo hóa ma trận này để thu được ma trận $D$ bằng cách dùng thư viện của Python và kiểm chứng lại bằng việc tính toán từng bước để tìm đa thức đặc trưng và các giá trị riêng của $M$. Từ đó hãy nêu cách tính ${{M}^{99}}$.\n",
    "* b) Ma trận chéo hóa $D$ của $M$ luôn không đổi với mọi giá trị $a$ tùy ý, hãy kiểm chứng với vài giá trị cụ thể của $a$ và giải thích lý do.\n"
   ]
  },
  {
   "cell_type": "code",
   "execution_count": 34,
   "id": "0616a0ac",
   "metadata": {},
   "outputs": [
    {
     "name": "stdout",
     "output_type": "stream",
     "text": [
      "Matrix([[2, 1, -2], [0, 3, 0], [0, 0, 3]])\n"
     ]
    },
    {
     "data": {
      "text/latex": [
       "$\\displaystyle \\left[\\begin{matrix}2 & 1 & -2\\\\0 & 3 & 0\\\\0 & 0 & 3\\end{matrix}\\right]$"
      ],
      "text/plain": [
       "Matrix([\n",
       "[2, 1, -2],\n",
       "[0, 3,  0],\n",
       "[0, 0,  3]])"
      ]
     },
     "execution_count": 34,
     "metadata": {},
     "output_type": "execute_result"
    }
   ],
   "source": [
    "a=1\n",
    "M=Matrix([[2,a,-2],[0,3,0],[0,0,3]])\n",
    "print(M)\n",
    "M"
   ]
  },
  {
   "cell_type": "code",
   "execution_count": 35,
   "id": "607c4a9d",
   "metadata": {},
   "outputs": [
    {
     "data": {
      "text/plain": [
       "(array([[1., 0., 0.],\n",
       "        [0., 1., 0.],\n",
       "        [0., 0., 1.]]),\n",
       " Matrix([\n",
       " [1, 1, -2],\n",
       " [0, 1,  0],\n",
       " [0, 0,  1]]),\n",
       " Matrix([\n",
       " [2, 0, 0],\n",
       " [0, 3, 0],\n",
       " [0, 0, 3]]))"
      ]
     },
     "execution_count": 35,
     "metadata": {},
     "output_type": "execute_result"
    }
   ],
   "source": [
    "I = np.identity(3)\n",
    "P,D = M.diagonalize()\n",
    "I,P,D"
   ]
  },
  {
   "cell_type": "code",
   "execution_count": 40,
   "id": "7449ff29",
   "metadata": {},
   "outputs": [
    {
     "data": {
      "text/latex": [
       "$\\displaystyle - 1.0 x^{3} + 8.0 x^{2} - 21.0 x + 18$"
      ],
      "text/plain": [
       "-1.0*x**3 + 8.0*x**2 - 21.0*x + 18"
      ]
     },
     "execution_count": 40,
     "metadata": {},
     "output_type": "execute_result"
    }
   ],
   "source": [
    "x=Symbol('x')\n",
    "det(M-x*I)"
   ]
  },
  {
   "cell_type": "code",
   "execution_count": 41,
   "id": "c251f107",
   "metadata": {},
   "outputs": [
    {
     "data": {
      "text/plain": [
       "[(2.00000000000000,), (3.00000000000000,)]"
      ]
     },
     "execution_count": 41,
     "metadata": {},
     "output_type": "execute_result"
    }
   ],
   "source": [
    "f=solve([det(M-x*I)],[x])\n",
    "f"
   ]
  },
  {
   "cell_type": "markdown",
   "id": "842e78f4",
   "metadata": {},
   "source": [
    "Để tính $M^{99}$: <BR>\n",
    "Ta lấy: $$M=PDP^{-1}\\rightarrow M^{99}=PD^{99}P^{-1}$$ <br>\n"
   ]
  },
  {
   "cell_type": "code",
   "execution_count": 44,
   "id": "7821aec8",
   "metadata": {},
   "outputs": [],
   "source": []
  },
  {
   "cell_type": "markdown",
   "id": "a309d354",
   "metadata": {},
   "source": [
    "b) kiểm chứng với vài giá trị   \n",
    "Vì nó là ma trận tam giác trên "
   ]
  },
  {
   "cell_type": "markdown",
   "id": "677ff910",
   "metadata": {},
   "source": [
    "a)    \n",
    "D=ma tran duong cheo\n",
    "Khai bao M   \n",
    "P,D=M.diagonalize() -> in D     \n",
    "M=P^-1DP   \n",
    "b) Kiem chung: thu nhieu gia tri, in ra   \n",
    "    giai thich: ma tran tam giac tren, det=tich duong cheo co tinh chat dac biet     \n",
    "        tinh det ko anh huong det, vecto rieng, tri rieng"
   ]
  }
 ],
 "metadata": {
  "kernelspec": {
   "display_name": "Python 3 (ipykernel)",
   "language": "python",
   "name": "python3"
  },
  "language_info": {
   "codemirror_mode": {
    "name": "ipython",
    "version": 3
   },
   "file_extension": ".py",
   "mimetype": "text/x-python",
   "name": "python",
   "nbconvert_exporter": "python",
   "pygments_lexer": "ipython3",
   "version": "3.9.13"
  }
 },
 "nbformat": 4,
 "nbformat_minor": 5
}
