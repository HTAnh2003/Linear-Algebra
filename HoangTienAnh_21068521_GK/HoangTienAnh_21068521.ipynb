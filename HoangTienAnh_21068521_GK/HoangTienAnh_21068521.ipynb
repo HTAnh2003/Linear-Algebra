{
 "cells": [
  {
   "cell_type": "markdown",
   "id": "9ae044c1",
   "metadata": {},
   "source": [
    "# Đề thi Giữa kỳ Đại số tuyến tính trong Khoa học dữ liệu\n",
    "## Khoa CNTT - IUH. Học kỳ 2 năm học 2022-2023.\n",
    "> Thời gian làm bài: 90 phút (sinh viên được dùng tài liệu chuẩn bị sẵn & Internet). SV export ra một file HTLM và nén lại cùng với file notebook rồi nộp."
   ]
  },
  {
   "cell_type": "code",
   "execution_count": 3,
   "id": "569fa76a",
   "metadata": {},
   "outputs": [],
   "source": [
    "import numpy as np\n",
    "from scipy import linalg\n",
    "from sympy import *"
   ]
  },
  {
   "cell_type": "markdown",
   "id": "8d248e75",
   "metadata": {},
   "source": [
    "### Bài 1. (3 điểm) $-$ các thao tác cơ bản trên ma trận\n",
    "\n",
    "Cho các ma trận sau đây: \n",
    "$$A=\\left( \\begin{matrix}\n",
    "   a & 2 & 1 & 5  \\\\\n",
    "   0 & b & 0 & 4  \\\\\n",
    "   -1 & 4 & c & 1  \\\\\n",
    "   2 & -1 & 3 & d  \\\\\n",
    "\\end{matrix} \\right) \\text{ và } B=\\left( \\begin{matrix}\n",
    "   3 & 5 & 1 & a  \\\\\n",
    "   0 & 3 & b & 2  \\\\\n",
    "   0 & c & 1 & 1  \\\\\n",
    "   d & -1 & -3 & 0  \\\\\n",
    "\\end{matrix} \\right),$$\n",
    "trong đó $a,b,c,d$ là $4$ số cuối trong MSSV (thứ tự từ trái sang phải). Khi làm bài, SV tự thay các số đó vào đề bài trên. Ví dụ: $21099581$ thì $a=9,b=5,c=8,d=1$ (chú ý viết cẩn thận, nếu sai MSSV thì không tính điểm bài này).\n",
    "\n",
    "Bằng các dùng các thư viện có hỗ trợ sẵn của Python, hãy thực hiện các yêu cầu sau:"
   ]
  },
  {
   "cell_type": "code",
   "execution_count": 12,
   "id": "c55d5568",
   "metadata": {},
   "outputs": [
    {
     "data": {
      "text/plain": [
       "(array([[ 8,  2,  1,  5],\n",
       "        [ 0,  5,  0,  4],\n",
       "        [-1,  4,  2,  1],\n",
       "        [ 2, -1,  3,  1]]),\n",
       " array([[ 3,  5,  1,  8],\n",
       "        [ 0,  3,  5,  2],\n",
       "        [ 0,  2,  1,  1],\n",
       "        [ 1, -1, -3,  0]]))"
      ]
     },
     "execution_count": 12,
     "metadata": {},
     "output_type": "execute_result"
    }
   ],
   "source": [
    "a,b,c,d=8,5,2,1\n",
    "A = np.array([[a,2,1,5],[0,b,0,4],[-1,4,c,1],[2,-1,3,d]])\n",
    "B = np.array([[3,5,1,a],[0,3,b,2],[0,c,1,1],[d,-1,-3,0]])\n",
    "A,B"
   ]
  },
  {
   "cell_type": "markdown",
   "id": "14f811c2",
   "metadata": {},
   "source": [
    "a) Tính $B \\cdot {{A}^{T}}$, $3A-4B$."
   ]
  },
  {
   "cell_type": "code",
   "execution_count": 16,
   "id": "94a7d3eb",
   "metadata": {},
   "outputs": [
    {
     "name": "stdout",
     "output_type": "stream",
     "text": [
      "B*(A^T) =  \n",
      " [[ 75  57  27  12]\n",
      " [ 21  23  24  14]\n",
      " [ 10  14  11   2]\n",
      " [  3  -5 -11  -6]]\n",
      "\n",
      "3A-4B = \n",
      " [[ 12 -14  -1 -17]\n",
      " [  0   3 -20   4]\n",
      " [ -3   4   2  -1]\n",
      " [  2   1  21   3]]\n"
     ]
    }
   ],
   "source": [
    "print(\"B*(A^T) =  \\n\",B@(A.T))\n",
    "print(\"\\n3A-4B = \\n\",3*A-4*B)"
   ]
  },
  {
   "cell_type": "markdown",
   "id": "894bb78d",
   "metadata": {},
   "source": [
    "b) Tính $\\det (A+2I)$ và $rank({{B}^{2}}).$ "
   ]
  },
  {
   "cell_type": "code",
   "execution_count": 19,
   "id": "3a2344b1",
   "metadata": {},
   "outputs": [
    {
     "name": "stdout",
     "output_type": "stream",
     "text": [
      "det(A+2*I) =  980.0\n",
      "rank(B^2) =  4\n"
     ]
    }
   ],
   "source": [
    "print(\"det(A+2*I) = \",linalg.det(A+2*np.identity(4)))\n",
    "print(\"rank(B^2) = \",np.linalg.matrix_rank(B@B))"
   ]
  },
  {
   "cell_type": "markdown",
   "id": "2d5ecedf",
   "metadata": {},
   "source": [
    "c) Tính độ dài của vector cột $2$ của $A$ và tổng các phần tử trên đường chéo của $A+B.$  "
   ]
  },
  {
   "cell_type": "code",
   "execution_count": 21,
   "id": "3a06a58c",
   "metadata": {},
   "outputs": [
    {
     "name": "stdout",
     "output_type": "stream",
     "text": [
      "Norm của vector cột 2 của A  [ 2  5  4 -1]  :  6.782329983125268\n",
      "Tổng các phần tử trên đường chéo A+B  [11  8  3  1]  la : 23\n"
     ]
    }
   ],
   "source": [
    "print(\"Norm của vector cột 2 của A \",A[:,1],\" : \",linalg.norm(A[:,1]))\n",
    "print(\"Tổng các phần tử trên đường chéo A+B \",np.diag(A+B),\" la :\",sum(np.diag(A+B)))"
   ]
  },
  {
   "cell_type": "markdown",
   "id": "4041ef39",
   "metadata": {},
   "source": [
    "d) Sinh ngẫu nhiên một ma trận $C$ có kích thước $4\\times 4$ với các phần tử là số nguyên trong miền từ $-10\\to 10$, từ đó in ra ma trận tam giác trên tạo thành từ $CA+B.$ "
   ]
  },
  {
   "cell_type": "code",
   "execution_count": 27,
   "id": "99e664af",
   "metadata": {},
   "outputs": [
    {
     "name": "stdout",
     "output_type": "stream",
     "text": [
      "C@A+B = \n",
      " [[-46 -27  15 -39]\n",
      " [ 96  28  29  82]\n",
      " [-62 -53  -3 -53]\n",
      " [ 49  32  21  48]]\n",
      "Ma tran tam giac tren : \n",
      " [[-46 -27  15 -39]\n",
      " [  0  28  29  82]\n",
      " [  0   0  -3 -53]\n",
      " [  0   0   0  48]]\n"
     ]
    }
   ],
   "source": [
    "C= np.random.randint(-10,10,size=(4,4))\n",
    "print(\"C@A+B = \\n\",C@A+B)\n",
    "print(\"Ma tran tam giac tren : \\n\",np.triu(C@A+B))"
   ]
  },
  {
   "cell_type": "markdown",
   "id": "54936d1b",
   "metadata": {},
   "source": [
    "e) Kiểm chứng tính chất kết hợp của phép nhân trên các ma trận $A,B,C$ đã cho: $(AB)C = A(BC)$."
   ]
  },
  {
   "cell_type": "code",
   "execution_count": 29,
   "id": "1fa5de90",
   "metadata": {},
   "outputs": [
    {
     "name": "stdout",
     "output_type": "stream",
     "text": [
      "Công thức (𝐴𝐵)C = A(BC) là đúng \n"
     ]
    }
   ],
   "source": [
    "if np.allclose((A@B)@C , A@(B@C)):\n",
    "    print(\"Công thức (𝐴𝐵)C = A(BC) là đúng \")\n",
    "else : print(\"Công thức (𝐴𝐵)C = A(BC) là sai \")"
   ]
  },
  {
   "cell_type": "markdown",
   "id": "272961ba",
   "metadata": {},
   "source": [
    "### Bài 2. (2 điểm) $-$ giải hệ phương trình\n",
    "Để mở rộng sản suất, một công ty đã vay $800$ triệu đồng từ ba ngân hàng $D, E$ và $F$, với lãi suất cho vay theo năm lần lượt là $6\\%, 8\\%$ và $9\\%$. Biết rằng tổng số tiền lãi năm đầu tiên công ty phải trả cho ba ngân hàng là $60$ triệu đồng và số tiền lãi công ty trả cho hai ngân hàng $D$ và $F$ là bằng nhau."
   ]
  },
  {
   "cell_type": "markdown",
   "id": "0ebe0b93",
   "metadata": {},
   "source": [
    "a) Gọi $x_1,x_2,x_3$ là số tiền mà công ty đã vay từ 3 ngân hàng $D,E,F$ và đặt $X=\\begin{bmatrix} x_1 & x_2 & x_3 \\end{bmatrix}^T$. Mô hình hoá bài toán trên dưới dạng hệ phương trình tuyến tính $AX=b$, bằng cách tìm ma trận $A$ và vector $b$."
   ]
  },
  {
   "cell_type": "code",
   "execution_count": 66,
   "id": "5b533bb0",
   "metadata": {},
   "outputs": [
    {
     "data": {
      "text/plain": [
       "(array([[ 0.06,  0.08,  0.09],\n",
       "        [ 1.  ,  1.  ,  1.  ],\n",
       "        [ 1.  ,  0.  , -1.  ]]),\n",
       " array([[ 60],\n",
       "        [800],\n",
       "        [  0]]))"
      ]
     },
     "execution_count": 66,
     "metadata": {},
     "output_type": "execute_result"
    }
   ],
   "source": [
    "A = np.array([[0.06,0.08,0.09],[1,1,1],[1,0,-1]])\n",
    "b=np.array([[60],[800],[0]])\n",
    "A,b"
   ]
  },
  {
   "cell_type": "markdown",
   "id": "348238b3",
   "metadata": {},
   "source": [
    "b) Tính số tiền mà công ty đã vay từ $3$ ngân hàng bằng ít nhất *hai cách*."
   ]
  },
  {
   "cell_type": "code",
   "execution_count": 91,
   "id": "534d12ac",
   "metadata": {},
   "outputs": [
    {
     "data": {
      "text/plain": [
       "(array([[4.00000000e+02],\n",
       "        [3.41060513e-13],\n",
       "        [4.00000000e+02]]),\n",
       " array([[4.00000000e+02],\n",
       "        [4.54747351e-13],\n",
       "        [4.00000000e+02]]))"
      ]
     },
     "execution_count": 91,
     "metadata": {},
     "output_type": "execute_result"
    }
   ],
   "source": [
    "kq=linalg.solve(A,b) #Cách 1\n",
    "kq1=linalg.inv(A)@b #Cách 2\n",
    "kq,kq1"
   ]
  },
  {
   "cell_type": "code",
   "execution_count": 85,
   "id": "f277cad5",
   "metadata": {},
   "outputs": [
    {
     "data": {
      "text/plain": [
       "array([[4.00000000e+02],\n",
       "       [4.54747351e-13],\n",
       "       [4.00000000e+02]])"
      ]
     },
     "execution_count": 85,
     "metadata": {},
     "output_type": "execute_result"
    }
   ],
   "source": [
    "kq1=linalg.inv(A)@b\n",
    "kq1"
   ]
  },
  {
   "cell_type": "markdown",
   "id": "a3023342",
   "metadata": {},
   "source": [
    "Làm tròn các số của ma trận kq1 thì ta được ma trận :\n",
    "$$ kq1 = \\begin{bmatrix}\n",
    "400\\\\ \n",
    "0\\\\ \n",
    "400\n",
    "\\end{bmatrix} $$"
   ]
  },
  {
   "cell_type": "code",
   "execution_count": 92,
   "id": "fefefd28",
   "metadata": {
    "scrolled": true
   },
   "outputs": [
    {
     "data": {
      "text/plain": [
       "{x: 400.000000000000, y: 0.0, z: 400.000000000000}"
      ]
     },
     "execution_count": 92,
     "metadata": {},
     "output_type": "execute_result"
    }
   ],
   "source": [
    "# Cách 3 dùng sumpy\n",
    "import sympy as sp\n",
    "x = sp.Symbol('x')\n",
    "y = sp.Symbol('y')\n",
    "z = sp.Symbol('z')\n",
    "kq2=sp.solve([0.06*x+0.08*y+0.09*z-60,x+y+z-800,x-z],[x,y,z])\n",
    "kq2"
   ]
  },
  {
   "cell_type": "markdown",
   "id": "55874b41",
   "metadata": {},
   "source": [
    "Vậy số tiền mà công ty đã vay từ 3 ngân hàng $D,E,F$ lần lượt là 400 triệu , 0 triệu , 400 triệu"
   ]
  },
  {
   "cell_type": "markdown",
   "id": "fca2f378",
   "metadata": {},
   "source": [
    "### Bài 3. (1 đ) $-$ thao tác trên vector\n",
    "\n",
    "Trong lĩnh vực xử lý ngôn ngữ tự nhiên $NLP$, với danh sách từ vựng $\\mathcal{L}$ độ dài $\\ell$, mỗi câu văn có thể được mô tả bởi vector $v\\in\\mathbb{R}^{\\ell}$ mà thành phần thứ $i$ cho biết số lần mà từ $d_i \\in \\mathcal{L}$ xuất hiện trong câu. Vector đó còn được gọi là tọa độ của câu văn trong $\\mathcal{L}$. Xét các câu văn sau đây (bỏ qua các dấu câu):\n",
    "> * $D_1$: *tôi là Kỳ*.\n",
    "> * $D_2$: *tôi thích đi xem phim*.\n",
    "> * $D_3$: *Kỳ rất thích xem tôi du lịch*.\n",
    "> * $D_4$: *tôi rất rất thích đi du lịch, Kỳ là tên tôi*.\n",
    "\n",
    "Giả sử rằng $\\mathcal{L} =$ (*Kỳ, du, đi, là, lịch, phim, rất, tên, thích, tôi, xem*) với $|\\mathcal{L}| = 11$ thì chẳng hạn câu văn $D_0$ = *tôi rất thích phim Kỳ Kỳ* sẽ có tọa độ là $$d_0 = (2,0,0,0,0,1,1,0,1,1,0).$$\n",
    "\n",
    "a) Viết toạ độ của các câu văn $D_1,D_2,D_3,D_4$ ở dạng vector trong không gian $11$ chiều ứng với từ vựng $\\mathcal{L}$.\n",
    "\n",
    "b) Tính khoảng cách Euclid đôi một giữa các câu văn trên, làm tròn $2$ chữ số thập phân."
   ]
  },
  {
   "cell_type": "code",
   "execution_count": 94,
   "id": "b8da355f",
   "metadata": {},
   "outputs": [
    {
     "ename": "ValueError",
     "evalue": "'Kỳ' is not in list",
     "output_type": "error",
     "traceback": [
      "\u001b[1;31m---------------------------------------------------------------------------\u001b[0m",
      "\u001b[1;31mValueError\u001b[0m                                Traceback (most recent call last)",
      "\u001b[1;32m~\\AppData\\Local\\Temp\\ipykernel_24780\\929879736.py\u001b[0m in \u001b[0;36m<module>\u001b[1;34m\u001b[0m\n\u001b[0;32m      1\u001b[0m \u001b[0mL\u001b[0m\u001b[1;33m=\u001b[0m\u001b[1;33m[\u001b[0m\u001b[1;34m'Kỳ'\u001b[0m\u001b[1;33m,\u001b[0m \u001b[1;34m'du'\u001b[0m\u001b[1;33m,\u001b[0m \u001b[1;34m'đi'\u001b[0m\u001b[1;33m,\u001b[0m \u001b[1;34m'là'\u001b[0m\u001b[1;33m,\u001b[0m \u001b[1;34m'lịch'\u001b[0m\u001b[1;33m,\u001b[0m \u001b[1;34m'phim'\u001b[0m\u001b[1;33m,\u001b[0m \u001b[1;34m'rất'\u001b[0m\u001b[1;33m,\u001b[0m \u001b[1;34m'tên'\u001b[0m\u001b[1;33m,\u001b[0m \u001b[1;34m'thích'\u001b[0m\u001b[1;33m,\u001b[0m \u001b[1;34m'tôi'\u001b[0m\u001b[1;33m,\u001b[0m \u001b[1;34m'xem'\u001b[0m\u001b[1;33m]\u001b[0m\u001b[1;33m\u001b[0m\u001b[1;33m\u001b[0m\u001b[0m\n\u001b[1;32m----> 2\u001b[1;33m \u001b[0mL\u001b[0m\u001b[1;33m.\u001b[0m\u001b[0mindex\u001b[0m\u001b[1;33m(\u001b[0m\u001b[1;34m'Kỳ'\u001b[0m\u001b[1;33m)\u001b[0m\u001b[1;33m\u001b[0m\u001b[1;33m\u001b[0m\u001b[0m\n\u001b[0m",
      "\u001b[1;31mValueError\u001b[0m: 'Kỳ' is not in list"
     ]
    }
   ],
   "source": [
    "L=['Kỳ', 'du', 'đi', 'là', 'lịch', 'phim', 'rất', 'tên', 'thích', 'tôi', 'xem']\n",
    "L.index('Kỳ')"
   ]
  },
  {
   "cell_type": "code",
   "execution_count": 99,
   "id": "ffd070eb",
   "metadata": {},
   "outputs": [
    {
     "name": "stdout",
     "output_type": "stream",
     "text": [
      "Khoảng cách giữa d1 & d1 là 0.0\n",
      "Khoảng cách giữa d1 & d2 là 2.45\n",
      "Khoảng cách giữa d1 & d3 là 2.45\n",
      "Khoảng cách giữa d1 & d4 là 3.16\n",
      "Khoảng cách giữa d2 & d1 là 2.45\n",
      "Khoảng cách giữa d2 & d2 là 0.0\n",
      "Khoảng cách giữa d2 & d3 là 2.45\n",
      "Khoảng cách giữa d2 & d4 là 3.46\n",
      "Khoảng cách giữa d3 & d1 là 2.45\n",
      "Khoảng cách giữa d3 & d2 là 2.45\n",
      "Khoảng cách giữa d3 & d3 là 0.0\n",
      "Khoảng cách giữa d3 & d4 là 2.45\n",
      "Khoảng cách giữa d4 & d1 là 3.16\n",
      "Khoảng cách giữa d4 & d2 là 3.46\n",
      "Khoảng cách giữa d4 & d3 là 2.45\n",
      "Khoảng cách giữa d4 & d4 là 0.0\n"
     ]
    }
   ],
   "source": [
    "# code mẫu tham khảo\n",
    "import numpy as np\n",
    "d1 = np.array([1,0,0,1,0,0,0,0,0,1,0])\n",
    "d2 = np.array([0,0,1,0,0,1,0,0,1,1,1])\n",
    "d3 = np.array([1,1,0,0,1,0,1,0,1,1,1])\n",
    "d4 = np.array([1,1,1,1,1,0,2,1,1,2,0])\n",
    "D = np.vstack([d1,d2,d3,d4])\n",
    "l = len(D)\n",
    "for i in range(0,l):\n",
    "    for j in range(0,l):\n",
    "        print('Khoảng cách giữa d{} & d{} là'.format(i+1,j+1), round(np.linalg.norm(D[i]-D[j]), 2))"
   ]
  },
  {
   "cell_type": "markdown",
   "id": "e1301074",
   "metadata": {},
   "source": [
    "### Bài 4. (2.5 điểm) $-$ phân rã QR\n",
    "Cho ma trận $A$ được xác định bởi $$A=\\begin{bmatrix} \n",
    "1 & 1 & -1\\\\\n",
    "0 & 1 & 2\\\\\n",
    "1 & 1 & 1\n",
    "\\end{bmatrix}.$$\n",
    "Tìm hai ma trận $Q$ và $R$ thoả mãn $A=QR$, biết $Q$ là ma trận gồm các vector cột trực chuẩn và $R$ là ma trận tam giác trên khả nghịch. SV tính toán từng bước sau đó sử dụng thư viện để kiểm chứng lại."
   ]
  },
  {
   "cell_type": "code",
   "execution_count": null,
   "id": "fad4ce5c",
   "metadata": {},
   "outputs": [],
   "source": [
    "#thực hiện từng bước theo sơ đồ sau đây"
   ]
  },
  {
   "cell_type": "markdown",
   "id": "0a1eb5a2",
   "metadata": {},
   "source": [
    "**Bước 1.** Các vector cột của $A$ là:\n",
    "$$u_1 = [1,0,1 ]^T, \\, u_2 = [1,1,1]^T, \\, u_3 = [ -1,2,1 ]^T.$$"
   ]
  },
  {
   "cell_type": "code",
   "execution_count": 140,
   "id": "3aa5474c",
   "metadata": {},
   "outputs": [
    {
     "data": {
      "text/plain": [
       "(array([1, 0, 1]), array([1, 1, 1]), array([-1,  2,  1]))"
      ]
     },
     "execution_count": 140,
     "metadata": {},
     "output_type": "execute_result"
    }
   ],
   "source": [
    "u1 = np.array([1,0,1])\n",
    "u2 = np.array([1,1,1])\n",
    "u3 = np.array([-1,2,1])\n",
    "u1,u2,u3"
   ]
  },
  {
   "cell_type": "markdown",
   "id": "9630a2fd",
   "metadata": {},
   "source": [
    "**Bước 2.** Trực giao hóa họ các vector bằng thuật giải Gram-Schmidt (để thuận tiện, ta viết vector theo dòng)\n",
    "\n",
    "$$v_1 = u_1 = (1, 0, 1),$$\n",
    "$$\\left\\| v_1 \\right\\|^2 = 2 $$\n",
    "$$\\left\\langle u_2,v_1 \\right\\rangle = 2$$\n",
    "$$v_2 = u_2 - \\frac{\\left\\langle u_2,v_1 \\right\\rangle}{\\left\\| v_1 \\right\\|^2} v_1 = (0, 1, 0),$$\n",
    "$$\\left\\| v_2 \\right\\|^2 = 1 $$\n",
    "$$\\left\\langle u_3,v_1 \\right\\rangle = 0 $$\n",
    "$$\\left\\langle u_3,v_2 \\right\\rangle = 2 $$\n",
    "$$v_3 = u_3 - \\frac{\\left\\langle u_3,v_1 \\right\\rangle}{\\left\\| v_1 \\right\\|^2} v_1 - \\frac{\\left\\langle u_3,v_2 \\right\\rangle}{\\left\\| v_2 \\right\\|^2} v_2 = (-1,  0,  1) $$\n",
    "$$\\left\\| v_3 \\right\\|^2 = 2  $$"
   ]
  },
  {
   "cell_type": "markdown",
   "id": "35308656",
   "metadata": {},
   "source": [
    "Kết luận họ trực giao là:\n",
    "$$v_1 = (1, 0, 1) , v_2 = (0, 1, 0) , v_3 = (-1,  0,  1).$$"
   ]
  },
  {
   "cell_type": "markdown",
   "id": "b06913fc",
   "metadata": {},
   "source": [
    "**Bước 3.** Tìm ma trận $Q$: chuẩn hóa họ các vector ở trên, ta được\n",
    "$$q_1 = \\frac{v_1}{\\left\\| v_1 \\right\\|} = \\frac{1}{\\sqrt{2}}(1,0,1) ,$$\n",
    "$$q_2 = \\frac{v_2}{\\left\\| v_2 \\right\\|} = (0,1,0) $$\n",
    "$$q_3 = \\frac{v_3}{\\left\\| v_3 \\right\\|} = \\frac{1}{\\sqrt{2}}(−1,0,1)$$"
   ]
  },
  {
   "cell_type": "markdown",
   "id": "263e9c68",
   "metadata": {},
   "source": [
    "Từ đó có ma trận $Q$ là:\n",
    "$$Q=\\left[ \\begin{matrix}\n",
    "   {{q}_{1}} & {{q}_{2}} & {{q}_{3}}  \\\\\n",
    "\\end{matrix} \\right]=\\left[ \\begin{matrix}\n",
    "{\\frac{1}{\\sqrt{2}}} & 0 & {\\frac{-1}{\\sqrt{2}}} \\\\ \n",
    "0 & 1 & 0\\\\ \n",
    "{\\frac{1}{\\sqrt{2}}} & 0 & {\\frac{1}{\\sqrt{2}}}\n",
    "\\end{matrix} \\right]$$"
   ]
  },
  {
   "cell_type": "markdown",
   "id": "b39cc842",
   "metadata": {},
   "source": [
    "**Bước 4.** Tìm ma trận $R$: ta tính các tích vô hướng sau đây\n",
    "$$\\left\\langle {{u}_{1}},{{q}_{1}} \\right\\rangle = \\sqrt{2}, $$\n",
    "$$\\left\\langle {{u}_{2}},{{q}_{1}} \\right\\rangle = \\sqrt{2}, $$\n",
    "$$\\left\\langle {{u}_{3}},{{q}_{1}} \\right\\rangle = 0, $$\n",
    "$$\\left\\langle {{u}_{2}},{{q}_{2}} \\right\\rangle = \\frac{1}{\\sqrt{2}}, $$\n",
    "$$\\left\\langle {{u}_{3}},{{q}_{2}} \\right\\rangle = \\sqrt{2}, $$\n",
    "$$\\left\\langle {{u}_{3}},{{q}_{3}} \\right\\rangle = \\sqrt{2}, $$"
   ]
  },
  {
   "cell_type": "markdown",
   "id": "50887165",
   "metadata": {},
   "source": [
    "Từ đó ta có ma trận $R$ là:\n",
    "\n",
    "$$R=\\left[ \\begin{matrix}\n",
    "   \\left\\langle {{u}_{1}},{{q}_{1}} \\right\\rangle  & \\left\\langle {{u}_{2}},{{q}_{1}} \\right\\rangle  & \\left\\langle {{u}_{3}},{{q}_{1}} \\right\\rangle   \\\\\n",
    "   0 & \\left\\langle {{u}_{2}},{{q}_{2}} \\right\\rangle  & \\left\\langle {{u}_{3}},{{q}_{2}} \\right\\rangle   \\\\\n",
    "   0 & 0 & \\left\\langle {{u}_{3}},{{q}_{3}} \\right\\rangle   \\\\\n",
    "\\end{matrix} \\right]=\\left[ \\begin{matrix}\n",
    "   {\\sqrt{2}} & {\\sqrt{2}} & { 0}  \\\\\n",
    "   {0} & {\\frac{1}{\\sqrt{2}}} & {\\sqrt{2}}  \\\\\n",
    "   {0} & {0} & {\\sqrt{2}}  \\\\\n",
    "\\end{matrix} \\right]$$"
   ]
  },
  {
   "cell_type": "code",
   "execution_count": 168,
   "id": "3ec1f7ee",
   "metadata": {},
   "outputs": [
    {
     "data": {
      "text/plain": [
       "((array([[-7.07106781e-01, -3.35470445e-17, -7.07106781e-01],\n",
       "         [-0.00000000e+00, -1.00000000e+00,  4.74426853e-17],\n",
       "         [-7.07106781e-01,  3.35470445e-17,  7.07106781e-01]]),\n",
       "  array([[-1.41421356e+00, -1.41421356e+00, -3.33066907e-16],\n",
       "         [ 0.00000000e+00, -1.00000000e+00, -2.00000000e+00],\n",
       "         [ 0.00000000e+00,  0.00000000e+00,  1.41421356e+00]])),\n",
       " array([[ 1.,  1., -1.],\n",
       "        [ 0.,  1.,  2.],\n",
       "        [ 1.,  1.,  1.]]))"
      ]
     },
     "execution_count": 168,
     "metadata": {},
     "output_type": "execute_result"
    }
   ],
   "source": [
    "#code mẫu tham khảo dùng thư viện\n",
    "import numpy as np\n",
    "A = np.array([[1,1,-1],[0 ,1 , 2],[1 , 1 , 1]]) \n",
    "Q, R =  linalg.qr(A)\n",
    "(Q, R),Q@R"
   ]
  },
  {
   "cell_type": "markdown",
   "id": "c2b556ee",
   "metadata": {},
   "source": [
    "$$ (-7.07106781e-01) = \\frac{-1}{\\sqrt{2}} $$"
   ]
  },
  {
   "cell_type": "markdown",
   "id": "e07798f1",
   "metadata": {},
   "source": [
    "### Bài 5. (1.5 điểm) $-$ trị riêng, vector riêng\n",
    "\n",
    "Cho $A$ là ma trận vuông cấp $2023$ và cho $x=\\begin{bmatrix} 1 & 2 & 3& \\ldots & 2023 \\end{bmatrix}^T$ là một vector riêng của $A$ ứng với giá trị riêng là $\\lambda =1$.\t"
   ]
  },
  {
   "cell_type": "markdown",
   "id": "df7a1491",
   "metadata": {},
   "source": [
    "a) Tính $Ax$."
   ]
  },
  {
   "cell_type": "markdown",
   "id": "dcde1269",
   "metadata": {},
   "source": [
    "$Av=\\lambda v$"
   ]
  },
  {
   "cell_type": "code",
   "execution_count": null,
   "id": "58f30334",
   "metadata": {},
   "outputs": [],
   "source": [
    "A.dot(x)"
   ]
  },
  {
   "cell_type": "markdown",
   "id": "d66ada4d",
   "metadata": {},
   "source": [
    "b) Tìm một giá trị riêng của ma trận $A^{2023}$ (có giải thích)."
   ]
  },
  {
   "cell_type": "code",
   "execution_count": null,
   "id": "10d04282",
   "metadata": {},
   "outputs": [],
   "source": []
  },
  {
   "cell_type": "markdown",
   "id": "9868f439",
   "metadata": {},
   "source": [
    "c) Ta biết rằng việc chéo hóa ma trận được dùng để tính lũy thừa ma trận. Vậy lũy thừa ma trận có những ứng dụng vào các bài toán nào?"
   ]
  },
  {
   "cell_type": "markdown",
   "id": "382ef0a4",
   "metadata": {},
   "source": [
    "Tính giá trị riêng , vecto riêng"
   ]
  }
 ],
 "metadata": {
  "kernelspec": {
   "display_name": "Python 3 (ipykernel)",
   "language": "python",
   "name": "python3"
  },
  "language_info": {
   "codemirror_mode": {
    "name": "ipython",
    "version": 3
   },
   "file_extension": ".py",
   "mimetype": "text/x-python",
   "name": "python",
   "nbconvert_exporter": "python",
   "pygments_lexer": "ipython3",
   "version": "3.9.13"
  }
 },
 "nbformat": 4,
 "nbformat_minor": 5
}
